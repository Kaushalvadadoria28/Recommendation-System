{
 "cells": [
  {
   "cell_type": "code",
   "execution_count": 1,
   "id": "aacf43a4",
   "metadata": {},
   "outputs": [],
   "source": [
    "import pandas as pd\n",
    "import numpy as np"
   ]
  },
  {
   "cell_type": "code",
   "execution_count": 2,
   "id": "a7397930",
   "metadata": {},
   "outputs": [
    {
     "name": "stderr",
     "output_type": "stream",
     "text": [
      "C:\\Users\\Ujasl\\AppData\\Local\\Temp\\ipykernel_38108\\4179105792.py:1: DtypeWarning: Columns (3) have mixed types. Specify dtype option on import or set low_memory=False.\n",
      "  df = pd.read_csv('./Dataset/Books.csv')\n"
     ]
    }
   ],
   "source": [
    "df = pd.read_csv('./Dataset/Books.csv')"
   ]
  },
  {
   "cell_type": "code",
   "execution_count": 4,
   "id": "f3351b2b",
   "metadata": {},
   "outputs": [],
   "source": [
    "def change_url(url):\n",
    "    url = url.replace('http','https')\n",
    "    return url"
   ]
  },
  {
   "cell_type": "code",
   "execution_count": 6,
   "id": "9d7d29f9",
   "metadata": {},
   "outputs": [],
   "source": [
    "df['Image-URL-M'] = df['Image-URL-M'].apply(lambda x: change_url(x))"
   ]
  },
  {
   "cell_type": "code",
   "execution_count": 8,
   "id": "be2a3f8d",
   "metadata": {},
   "outputs": [
    {
     "data": {
      "text/plain": [
       "'https://images.amazon.com/images/P/0195153448.01.MZZZZZZZ.jpg'"
      ]
     },
     "execution_count": 8,
     "metadata": {},
     "output_type": "execute_result"
    }
   ],
   "source": [
    "df['Image-URL-M'][0]"
   ]
  },
  {
   "cell_type": "code",
   "execution_count": 9,
   "id": "d3935e65",
   "metadata": {},
   "outputs": [],
   "source": [
    "import pickle"
   ]
  },
  {
   "cell_type": "code",
   "execution_count": 10,
   "id": "8f3efc3b",
   "metadata": {},
   "outputs": [],
   "source": [
    "file = pickle.load(open('.pkl','rb'))"
   ]
  },
  {
   "cell_type": "code",
   "execution_count": 11,
   "id": "8d3d0971",
   "metadata": {},
   "outputs": [
    {
     "data": {
      "text/plain": [
       "array([[1.        , 0.10255025, 0.01220856, ..., 0.12110367, 0.07347567,\n",
       "        0.04316046],\n",
       "       [0.10255025, 1.        , 0.2364573 , ..., 0.07446129, 0.16773875,\n",
       "        0.14263397],\n",
       "       [0.01220856, 0.2364573 , 1.        , ..., 0.04558758, 0.04938579,\n",
       "        0.10796119],\n",
       "       ...,\n",
       "       [0.12110367, 0.07446129, 0.04558758, ..., 1.        , 0.07085128,\n",
       "        0.0196177 ],\n",
       "       [0.07347567, 0.16773875, 0.04938579, ..., 0.07085128, 1.        ,\n",
       "        0.10602962],\n",
       "       [0.04316046, 0.14263397, 0.10796119, ..., 0.0196177 , 0.10602962,\n",
       "        1.        ]])"
      ]
     },
     "execution_count": 11,
     "metadata": {},
     "output_type": "execute_result"
    }
   ],
   "source": [
    "file"
   ]
  },
  {
   "cell_type": "code",
   "execution_count": null,
   "id": "4c12dd7d",
   "metadata": {},
   "outputs": [],
   "source": []
  }
 ],
 "metadata": {
  "kernelspec": {
   "display_name": "Python 3 (ipykernel)",
   "language": "python",
   "name": "python3"
  },
  "language_info": {
   "codemirror_mode": {
    "name": "ipython",
    "version": 3
   },
   "file_extension": ".py",
   "mimetype": "text/x-python",
   "name": "python",
   "nbconvert_exporter": "python",
   "pygments_lexer": "ipython3",
   "version": "3.11.2"
  }
 },
 "nbformat": 4,
 "nbformat_minor": 5
}
